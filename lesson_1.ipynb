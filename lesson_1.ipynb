{
 "cells": [
  {
   "cell_type": "code",
   "execution_count": 7,
   "metadata": {},
   "outputs": [
    {
     "name": "stdout",
     "output_type": "stream",
     "text": [
      "Введите число от 1 до 9\n",
      "5\n",
      "Введите степень:\n",
      "25\n"
     ]
    }
   ],
   "source": [
    "#1_lesson\n",
    "#Задание_1\n",
    "print('Введите число от 1 до 9')\n",
    "x = int(input())\n",
    "print(x)\n",
    "if(x >= 1 and x <= 3):\n",
    "    print(\"Введите строку:\")\n",
    "    s = input()\n",
    "    n = int(input())\n",
    "    for i in range (n):\n",
    "        print(s)\n",
    "elif(x>=4 and x<=6):\n",
    "    print(\"Введите степень:\")\n",
    "    m = int(input())\n",
    "    print(x**m)\n",
    "elif(x>=6 and x<=9):\n",
    "    for i in range (10):\n",
    "        l = x + i\n",
    "        print(l)\n",
    "else:\n",
    "    print(\"Error\")\n",
    "    \n"
   ]
  },
  {
   "cell_type": "code",
   "execution_count": 10,
   "metadata": {},
   "outputs": [
    {
     "name": "stdout",
     "output_type": "stream",
     "text": [
      "Общество в начале XXI века\n",
      "Error\n",
      "Error\n",
      "Error\n",
      "Error\n",
      "Error\n"
     ]
    }
   ],
   "source": [
    "#Задание_2\n",
    "print(\"Общество в начале XXI века\") \n",
    "x =int(input(\"Введите возраст = \")) \n",
    "if(x>=0 and x<=7): \n",
    "    print(\"Вам в детский сад\") \n",
    "elif(x>=7 and x<18): \n",
    "    print(\"Вам в школу\") \n",
    "elif(x>=18 and x<25): \n",
    "    print(\"Вам в профессиональное учебное заведение\") \n",
    "elif(x>=25 and x<60): \n",
    "    print(\"Вам на работу\") \n",
    "elif(x>=60 and x<120): \n",
    "    print(\"Вам предоставляется выбор\") \n",
    "else: \n",
    "   for i in range(5): \n",
    "        print(\"Error\")"
   ]
  },
  {
   "cell_type": "code",
   "execution_count": 12,
   "metadata": {},
   "outputs": [
    {
     "name": "stdout",
     "output_type": "stream",
     "text": [
      "Самое длинное слово: авплофещплждьдл\n"
     ]
    }
   ],
   "source": [
    "#2_lesson\n",
    "#Задание_1\n",
    "sent = input(\"Введите строку: \")  \n",
    "words = sent.split()   \n",
    "longest = words[0] \n",
    "for i in words: \n",
    "    if len(i) > len(longest):  \n",
    "        longest = i   \n",
    " \n",
    "print(\"Самое длинное слово:\", longest)"
   ]
  },
  {
   "cell_type": "code",
   "execution_count": 13,
   "metadata": {},
   "outputs": [
    {
     "name": "stdout",
     "output_type": "stream",
     "text": [
      "Самое длинное слово:  мтплит аолтаил \n"
     ]
    }
   ],
   "source": [
    "#Задание_2\n",
    "sent = input(\"Введите строку: \")  \n",
    "words = sent.split(';')   \n",
    "longest = words[0]   \n",
    "for i in words: \n",
    "    if len(i) > len(longest):  \n",
    "        longest = i   \n",
    " \n",
    "print(\"Самое длинное слово:\", longest)"
   ]
  },
  {
   "cell_type": "code",
   "execution_count": 3,
   "metadata": {},
   "outputs": [
    {
     "name": "stdout",
     "output_type": "stream",
     "text": [
      "Самое короткое слово: амфои\n"
     ]
    }
   ],
   "source": [
    "#Задание_3\n",
    "sent = input(\"Введите строку: \")  \n",
    "znak=input(\"Введите знак :\") \n",
    "words = sent.split(znak)   \n",
    "short = words[0]  \n",
    "for i in words: \n",
    "    if len(i) < len(short):  \n",
    "        short = i   \n",
    " \n",
    "print(\"Самое короткое слово:\", short)"
   ]
  },
  {
   "cell_type": "code",
   "execution_count": 4,
   "metadata": {},
   "outputs": [
    {
     "name": "stdout",
     "output_type": "stream",
     "text": [
      "Слово 'кушать' найдено в строке\n"
     ]
    }
   ],
   "source": [
    "#Задание_4\n",
    "sent=input(\"Введите строку : \") \n",
    "find=input(\"Введите слово для поиска : \") \n",
    "if find in sent: \n",
    "    print(f\"Слово '{find}' найдено в строке\") \n",
    "else: \n",
    "    print(f\"Слово '{find}' нет в строке!\")"
   ]
  },
  {
   "cell_type": "code",
   "execution_count": 5,
   "metadata": {},
   "outputs": [
    {
     "name": "stdout",
     "output_type": "stream",
     "text": [
      "Кол-во слов в строке : 3\n"
     ]
    }
   ],
   "source": [
    "#Задание_5\n",
    "sent = input(\"Введите строку: \")  \n",
    "words = sent.split()   \n",
    "sum=len(words) \n",
    "print(\"Кол-во слов в строке : \" + str(sum))"
   ]
  }
 ],
 "metadata": {
  "kernelspec": {
   "display_name": "Python 3",
   "language": "python",
   "name": "python3"
  },
  "language_info": {
   "codemirror_mode": {
    "name": "ipython",
    "version": 3
   },
   "file_extension": ".py",
   "mimetype": "text/x-python",
   "name": "python",
   "nbconvert_exporter": "python",
   "pygments_lexer": "ipython3",
   "version": "3.11.5"
  }
 },
 "nbformat": 4,
 "nbformat_minor": 2
}
